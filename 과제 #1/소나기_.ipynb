{
  "nbformat": 4,
  "nbformat_minor": 0,
  "metadata": {
    "colab": {
      "provenance": []
    },
    "kernelspec": {
      "name": "python3",
      "display_name": "Python 3"
    },
    "language_info": {
      "name": "python"
    }
  },
  "cells": [
    {
      "cell_type": "code",
      "execution_count": null,
      "metadata": {
        "colab": {
          "resources": {
            "http://localhost:8080/nbextensions/google.colab/files.js": {
              "data": "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",
              "ok": true,
              "headers": [
                [
                  "content-type",
                  "application/javascript"
                ]
              ],
              "status": 200,
              "status_text": ""
            }
          },
          "base_uri": "https://localhost:8080/",
          "height": 77
        },
        "id": "ODE3F5rtf4tU",
        "outputId": "9ead28fe-56e0-4e80-a4a8-7cffd1e611bf"
      },
      "outputs": [
        {
          "output_type": "display_data",
          "data": {
            "text/plain": [
              "<IPython.core.display.HTML object>"
            ],
            "text/html": [
              "\n",
              "     <input type=\"file\" id=\"files-0b17241a-cedd-4d47-b0b3-1090ca0edf71\" name=\"files[]\" multiple disabled\n",
              "        style=\"border:none\" />\n",
              "     <output id=\"result-0b17241a-cedd-4d47-b0b3-1090ca0edf71\">\n",
              "      Upload widget is only available when the cell has been executed in the\n",
              "      current browser session. Please rerun this cell to enable.\n",
              "      </output>\n",
              "      <script src=\"/nbextensions/google.colab/files.js\"></script> "
            ]
          },
          "metadata": {}
        },
        {
          "output_type": "stream",
          "name": "stdout",
          "text": [
            "Saving 소나기.txt to 소나기.txt\n"
          ]
        }
      ],
      "source": [
        "from google.colab import files\n",
        "file_uploaded = files.upload()"
      ]
    },
    {
      "cell_type": "code",
      "source": [
        "pip install konlpy"
      ],
      "metadata": {
        "colab": {
          "base_uri": "https://localhost:8080/"
        },
        "id": "h4f56CYOgZna",
        "outputId": "c3d449c4-de3b-4b57-a3d2-a826971e6834"
      },
      "execution_count": null,
      "outputs": [
        {
          "output_type": "stream",
          "name": "stdout",
          "text": [
            "Looking in indexes: https://pypi.org/simple, https://us-python.pkg.dev/colab-wheels/public/simple/\n",
            "Collecting konlpy\n",
            "  Downloading konlpy-0.6.0-py2.py3-none-any.whl (19.4 MB)\n",
            "\u001b[K     |████████████████████████████████| 19.4 MB 1.3 MB/s \n",
            "\u001b[?25hRequirement already satisfied: numpy>=1.6 in /usr/local/lib/python3.7/dist-packages (from konlpy) (1.21.6)\n",
            "Collecting JPype1>=0.7.0\n",
            "  Downloading JPype1-1.4.0-cp37-cp37m-manylinux_2_5_x86_64.manylinux1_x86_64.whl (453 kB)\n",
            "\u001b[K     |████████████████████████████████| 453 kB 45.7 MB/s \n",
            "\u001b[?25hRequirement already satisfied: lxml>=4.1.0 in /usr/local/lib/python3.7/dist-packages (from konlpy) (4.9.1)\n",
            "Requirement already satisfied: typing-extensions in /usr/local/lib/python3.7/dist-packages (from JPype1>=0.7.0->konlpy) (4.1.1)\n",
            "Installing collected packages: JPype1, konlpy\n",
            "Successfully installed JPype1-1.4.0 konlpy-0.6.0\n"
          ]
        }
      ]
    },
    {
      "cell_type": "code",
      "source": [
        "from nltk import word_tokenize\n",
        "from collections import Counter\n",
        "from konlpy.tag import Kkma"
      ],
      "metadata": {
        "id": "EPsIV6UBf7SY"
      },
      "execution_count": null,
      "outputs": []
    },
    {
      "cell_type": "code",
      "source": [
        "f = open(\"소나기.txt\", \"r\",encoding='utf-8')\n",
        "\n",
        "data = f.read()"
      ],
      "metadata": {
        "id": "9BmlTIomgrFm"
      },
      "execution_count": null,
      "outputs": []
    },
    {
      "cell_type": "code",
      "source": [
        "import nltk\n",
        "nltk.download('punkt')"
      ],
      "metadata": {
        "colab": {
          "base_uri": "https://localhost:8080/"
        },
        "id": "i-5GemlOgzX9",
        "outputId": "a0a8a5c4-35db-43ec-be6f-831b04f36686"
      },
      "execution_count": null,
      "outputs": [
        {
          "output_type": "stream",
          "name": "stderr",
          "text": [
            "[nltk_data] Downloading package punkt to /root/nltk_data...\n",
            "[nltk_data]   Unzipping tokenizers/punkt.zip.\n"
          ]
        },
        {
          "output_type": "execute_result",
          "data": {
            "text/plain": [
              "True"
            ]
          },
          "metadata": {},
          "execution_count": 7
        }
      ]
    },
    {
      "cell_type": "code",
      "source": [
        "kkma = Kkma()\n",
        "\n",
        "wordss=kkma.pos(data)\n",
        "nouns = [n for n, tag in wordss if tag in [\"NNG\",\"NNP\",\"NNB\"] ]\n",
        "#print(nouns)"
      ],
      "metadata": {
        "id": "4AeksO3xf7Z2"
      },
      "execution_count": null,
      "outputs": []
    },
    {
      "cell_type": "code",
      "source": [
        "count = Counter(nouns)\n",
        "print(count)"
      ],
      "metadata": {
        "colab": {
          "base_uri": "https://localhost:8080/"
        },
        "id": "XBiZK3Evf7cN",
        "outputId": "130f7d0a-eb33-4f9d-c62b-6a5a4e49b86d"
      },
      "execution_count": null,
      "outputs": [
        {
          "output_type": "stream",
          "name": "stdout",
          "text": [
            "Counter({'소녀': 72, '소년': 49, '것': 35, '속': 15, '날': 14, '꽃': 14, '생각': 13, '물': 12, '손': 11, '전': 9, '말': 9, '개울가': 8, '수': 8, '얼굴': 8, '길': 7, '데': 7, '이번': 7, '바보': 7, '갈꽃': 7, '비': 7, '개울': 6, '징검다리': 6, '머리': 6, '소리': 6, '눈': 6, '산': 6, '허수아비': 6, '참': 6, '집': 6, '곳': 6, '밑': 6, '송아지': 6, '이사': 6, '호두': 6, '윤': 5, '초시': 5, '오늘': 5, '조약돌': 5, '갈밭': 5, '가을': 5, '쪽': 5, '주머니': 5, '일': 5, '번': 5, '수숫단': 5, '아버지': 5, '물장난': 4, '서울': 4, '학교': 4, '둑': 4, '다음': 4, '스웨터': 4, '몸': 4, '시작': 4, '맛': 4, '하나': 4, '듯이': 3, '며칠': 3, '가운데': 3, '세수': 3, '분홍': 3, '무엇': 3, '일어': 3, '뒤': 3, '햇살': 3, '아래': 3, '시간': 3, '가슴': 3, '자리': 3, '입술': 3, '체': 3, '갈림길': 3, '보조개': 3, '쪽빛': 3, '하늘': 3, '독수리': 3, '밭': 3, '원두막': 3, '참외': 3, '칡덩굴': 3, '등': 3, '꽃묶음': 3, '어깨': 3, '남': 3, '할아버지': 3, '어른': 3, '쇠': 3, '어머니': 3, '개울물': 2, '어제': 2, '사람': 2, '목덜미': 2, '모양': 2, '돌이': 2, '사잇길': 2, '옴큼': 2, '걸음': 2, '그림자': 2, '발': 2, '냄새': 2, '코': 2, '코피': 2, '앞': 2, '뿐': 2, '위': 2, '편': 2, '혼자': 2, '때': 2, '만': 2, '곁': 2, '참새': 2, '마리': 2, '야': 2, '줄': 2, '눈앞': 2, '맴': 2, '무우': 2, '잎': 2, '입': 2, '도라지': 2, '보랏빛': 2, '양산': 2, '마타리': 2, '주위': 2, '만이': 2, '등나무': 2, '줄기': 2, '생채기': 2, '고삐': 2, '농부': 2, '구름': 2, '소란': 2, '바람': 2, '빗방울': 2, '대로': 2, '가지': 2, '송이': 2, '밖': 2, '새': 2, '고개': 2, '도랑': 2, '빛': 2, '앞자락': 2, '저': 2, '대추': 2, '제사': 2, '대': 2, '알': 2, '밤': 2, '덕': 2, '작대기': 2, '라': 2, '그늘': 2, '옷': 2, '닭': 2, '서당골': 2, '댁': 2, '마을': 2, '애': 2, '앤': 2, '증손녀': 1, '딸': 1, '기슭': 1, '요행': 1, '소매': 1, '한참': 1, '고기': 1, '새끼': 1, '듯': 1, '허탕': 1, '양': 1, '조약': 1, '단발': 1, '청량': 1, '발돋움': 1, '상당': 1, '이제': 1, '들길': 1, '물기': 1, '다행': 1, '이상': 1, '계속': 1, '수록': 1, '구석': 1, '버릇': 1, '내가': 1, '달리기': 1, '디딤돌': 1, '물속': 1, '메밀밭': 1, '메밀꽃': 1, '미간': 1, '액체': 1, '토요일': 1, '건너편': 1, '가': 1, '얼마': 1, '실수': 1, '큰길': 1, '조심': 1, '조': 1, '개지': 1, '바닥': 1, '비단': 1, '조개': 1, '이름': 1, '쯤': 1, '우대': 1, '리': 1, '너머': 1, '벌': 1, '끝': 1, '시골': 1, '소풍': 1, '벼': 1, '가을걷이': 1, '새끼줄': 1, '춤': 1, '왼쪽': 1, '볼': 1, '패': 1, '저만큼': 1, '메뚜기': 1, '때문': 1, '논': 1, '도랑이': 1, '밭머리': 1, '수박': 1, '그루': 1, '심': 1, '후': 1, '대강이': 1, '손톱': 1, '껍질': 1, '입도': 1, '단풍': 1, '들국화': 1, '싸리': 1, '상기': 1, '꽃가지': 1, '마라': 1, '마루': 1, '맞은편': 1, '골짜기': 1, '초가집': 1, '누': 1, '바위': 1, '말라가': 1, '풀': 1, '등꽃': 1, '을': 1, '던': 1, '동무': 1, '꽃송이': 1, '안간힘': 1, '제가': 1, '오른쪽': 1, '무릎': 1, '핏방울': 1, '숨': 1, '송진': 1, '달': 1, '이빨': 1, '누렁': 1, '코뚜레': 1, '남색': 1, '스커트': 1, '범벅': 1, '모두': 1, '자랑': 1, '흉내': 1, '못': 1, '예서': 1, '들': 1, '억새풀': 1, '사이': 1, '어린': 1, '허리': 1, '꾸지람': 1, '나룻': 1, '소나': 1, '기가': 1, '먹장': 1, '사면': 1, '삽시간': 1, '떡갈나무': 1, '빗줄기': 1, '비안개': 1, '기둥': 1, '지붕': 1, '비가': 1, '무명': 1, '겹': 1, '저고리': 1, '수수밭': 1, '옆': 1, '이쪽': 1, '손짓': 1, '야만': 1, '김': 1, '뒷걸음': 1, '내음': 1, '기운': 1, '느낌': 1, '수숫잎': 1, '앞쪽': 1, '햇빛': 1, '흙탕물': 1, '잠방이': 1, '목': 1, '점': 1, '개': 1, '모습': 1, '매일': 1, '운동장': 1, '학년': 1, '여자': 1, '반': 1, '그날': 1, '동안': 1, '소나기': 1, '탓': 1, '인제': 1, '하': 1, '물이': 1, '진흙물': 1, '내': 1, '등에': 1, '아침': 1, '추': 1, '줌': 1, '증조': 1, '알도': 1, '내주': 1, '이야기': 1, '손자': 1, '서': 1, '사업': 1, '실패': 1, '고향': 1, '고향집': 1, '난': 1, '혼': 1, '잣': 1, '단맛': 1, '낯': 1, '나무': 1, '송': 1, '순간': 1, '힘': 1, '열': 1, '이틀': 1, '달이': 1, '고마움': 1, '처음': 1, '맨손': 1, '근동': 1, '제일': 1, '병이': 1, '가기': 1, '한': 1, '이튿날': 1, '나들이': 1, '대꾸': 1, '무게': 1, '겨냥': 1, '하면': 1, '망태기': 1, '살': 1, '거': 1, '여': 1, '제삿상': 1, '라도': 1, '놈': 1, '얼룩': 1, '수탉': 1, '임': 1, '마': 1, '실속': 1, '책보': 1, '외양간': 1, '잔등': 1, '쇠파리': 1, '아래쪽': 1, '내일': 1, '양평읍': 1, '가겟방': 1, '되리': 1, '가보': 1, '가면': 1, '잠': 1, '허': 1, '세상일': 1, '전답': 1, '악상': 1, '남폿불': 1, '바느질': 1, '증손': 1, '계집애': 1, '사내': 1, '둘': 1, '자식': 1, '복': 1, '약도': 1, '군': 1, '지금': 1, '셈': 1, '계집': 1, '잔망': 1, '글': 1})\n"
          ]
        }
      ]
    },
    {
      "cell_type": "code",
      "source": [
        "stopwords = ['것','속','수','데','군','허','라도','거','하면','서',\"추\"]\n",
        "result = []\n",
        "\n",
        "for w in nouns:\n",
        "  if w not in stopwords:\n",
        "    #print(w)\n",
        "    result.append(w)\n",
        "print(result)\n"
      ],
      "metadata": {
        "colab": {
          "base_uri": "https://localhost:8080/"
        },
        "id": "ujZzdcafmKrB",
        "outputId": "686f3ab1-43cc-4c29-9617-f76ce04a9309"
      },
      "execution_count": null,
      "outputs": [
        {
          "output_type": "stream",
          "name": "stdout",
          "text": [
            "['소년', '개울가', '소녀', '윤', '초시', '증손녀', '딸', '소녀', '개울', '손', '물장난', '서울', '개울물', '듯이', '며칠', '소녀', '학교', '길', '물장난', '어제', '개울', '기슭', '오늘', '징검다리', '가운데', '소년', '개울', '둑', '소녀', '요행', '사람', '소녀', '길', '다음', '날', '개울가', '날', '소녀', '징검다리', '가운데', '세수', '분홍', '스웨터', '소매', '목덜미', '한참', '세수', '이번', '물', '얼굴', '물', '고기', '새끼', '듯', '소녀', '소년', '개울', '둑', '물', '허탕', '양', '물', '어제', '개울', '사람', '길', '모양', '소녀', '물', '무엇', '조약돌', '일어', '징검다리', '바보', '조약', '돌이', '소년', '단발', '머리', '소녀', '갈밭', '사잇길', '뒤', '청량', '가을', '햇살', '아래', '갈꽃', '갈밭', '머리', '소녀', '시간', '생각', '소녀', '발돋움', '상당', '시간', '생각', '쪽', '갈밭', '머리', '갈꽃', '옴큼', '소녀', '갈꽃', '이제', '걸음', '가을', '햇살', '소녀', '갈꽃', '머리', '소녀', '갈꽃', '들길', '소년', '갈꽃', '소녀', '조약돌', '물기', '소년', '조약돌', '주머니', '다음', '날', '개울가', '소녀', '그림자', '다행', '이상', '일', '소녀', '그림자', '날', '계속', '수록', '소년', '가슴', '구석', '자리', '주머니', '조약돌', '버릇', '날', '소년', '전', '소녀', '물장난', '징검다리', '가운데', '물', '손', '세수', '물', '얼굴', '소년', '손', '물', '얼굴', '번', '소녀', '내가', '일', '소년', '달리기', '디딤돌', '발', '물속', '몸', '쪽', '길', '갈밭', '메밀밭', '전', '메밀꽃', '냄새', '코', '생각', '미간', '액체', '입술', '코피', '소년', '손', '코피', '바보', '바보', '소리', '토요일', '개울가', '며칠', '소녀', '건너편', '가', '물장난', '체', '징검다리', '시작', '얼마', '전', '소녀', '앞', '번', '실수', '뿐', '큰길', '징검다리', '오늘', '조심', '둑', '위', '조', '개지', '소녀', '눈', '소녀', '손', '바닥', '눈', '비단', '조개', '이름', '갈림길', '소녀', '아래', '편', '쯤', '소년', '우대', '리', '길', '소녀', '걸음', '산', '너머', '벌', '끝', '시골', '혼자', '서울', '때', '소풍', '소녀', '눈', '바보', '바보', '만', '사잇길', '벼', '가을걷이', '곁', '허수아비', '소년', '새끼줄', '참새', '마리', '참', '오늘', '집', '참새', '생각', '야', '소녀', '허수아비', '줄', '허수아비', '춤', '소녀', '왼쪽', '볼', '보조개', '패', '저만큼', '허수아비', '소녀', '뒤', '소년', '오늘', '날', '집', '생각', '듯이', '소녀', '곁', '메뚜기', '얼굴', '쪽빛', '가을', '하늘', '소년', '눈앞', '맴', '독수리', '독수리', '독수리', '맴', '때문', '소녀', '허수아비', '전', '허수아비', '논', '곳', '도랑이', '소녀', '산', '밑', '밭', '수숫단', '밭머리', '원두막', '참외', '참외', '맛', '수박', '맛', '하나', '소년', '참외', '그루', '심', '무우', '밭', '무우', '밑', '밑', '잎', '후', '소녀', '듯이', '대강이', '입', '다음', '손톱', '돌이', '껍질', '소녀', '입도', '참', '소년', '산', '단풍', '눈', '야', '소녀', '산', '이번', '소년', '소녀', '꽃', '들국화', '싸리', '꽃', '도라지', '꽃', '도라지', '꽃', '줄', '보랏빛', '양산', '꽃', '무엇', '마타리', '꽃', '소녀', '마타리', '꽃', '양산', '상기', '얼굴', '보조개', '소년', '꽃', '옴큼', '꽃가지', '소녀', '소녀', '하나', '마라', '산', '마루', '맞은편', '골짜기', '초가집', '누', '바위', '주위', '가을', '햇살', '만이', '말라가', '풀', '냄새', '꽃', '곳', '칡덩굴', '꽃', '등꽃', '서울', '학교', '등나무', '꽃', '을', '등나무', '밑', '던', '동무', '생각', '소녀', '일어', '곳', '꽃송이', '줄기', '시작', '안간힘', '칡덩굴', '소년', '소녀', '손', '손', '소년', '제가', '소녀', '오른쪽', '무릎', '핏방울', '소년', '생채기', '입술', '시작', '생각', '일어', '쪽', '만', '숨', '소년', '송진', '생채기', '달', '칡덩굴', '꽃', '줄기', '이빨', '송아지', '누렁', '송아지', '코뚜레', '소년', '고삐', '등', '체', '송아지', '소녀', '얼굴', '분홍', '스웨터', '남색', '스커트', '꽃', '범벅', '모두', '하나', '꽃묶음', '자랑', '소녀', '흉내', '못', '혼자', '만이', '일', '예서', '들', '농부', '하나', '억새풀', '사이', '송아지', '등', '어린', '송아지', '허리', '꾸지람', '나룻', '농부', '소녀', '편', '번', '송아지', '고삐', '집', '소나', '기가', '참', '먹장', '구름', '머리', '위', '사면', '소란', '바람', '소리', '삽시간', '주위', '보랏빛', '산', '떡갈나무', '잎', '빗방울', '소리', '빗방울', '목덜미', '눈앞', '빗줄기', '비안개', '원두막', '비', '원두막', '기둥', '지붕', '대로', '비가', '곳', '소녀', '소녀', '입술', '어깨', '무명', '겹', '저고리', '소녀', '어깨', '소녀', '비', '눈', '번', '뿐', '소년', '대로', '꽃묶음', '가지', '꽃', '송이', '발', '밑', '소녀', '곳', '비', '시작', '비', '밖', '소년', '무엇', '생각', '수수밭', '쪽', '수숫단', '옆', '수숫단', '이쪽', '손짓', '수숫단', '비', '새', '앞', '소년', '비', '야만', '소년', '어깨', '김', '소녀', '소녀', '뒷걸음', '바람', '소녀', '꽃묶음', '소녀', '생각', '비', '소년', '몸', '내음', '새', '코', '고개', '소년', '몸', '기운', '몸', '느낌', '소란', '수숫잎', '소리', '밖', '수숫단', '앞쪽', '햇빛', '도랑', '곳', '물', '빛', '흙탕물', '소년', '등', '소녀', '소년', '잠방이', '물', '소녀', '소리', '소년', '목', '개울가', '전', '가을', '하늘', '구름', '점', '쪽빛', '개', '뒤', '소녀', '모습', '매일', '개울가', '학교', '시간', '운동장', '남', '학년', '여자', '반', '그날', '소년', '주머니', '조약돌', '개울가', '쪽', '개울', '둑', '소녀', '소년', '가슴', '동안', '소녀', '얼굴', '날', '소나기', '탓', '소녀', '고개', '인제', '하', '참', '날', '날', '물이', '소녀', '분홍', '스웨터', '앞자락', '진흙물', '소녀', '보조개', '물', '소년', '스웨터', '앞자락', '내', '생각', '날', '도랑', '일', '때', '등에', '물', '소년', '얼굴', '갈림길', '소녀', '저', '오늘', '아침', '집', '대추', '제사', '대', '줌', '소년', '맛', '증조', '할아버지', '소년', '손', '참', '알도', '이번', '제사', '집', '내주', '소년', '소녀', '이사', '전', '어른', '이야기', '윤', '초시', '손자', '서울', '사업', '실패', '고향', '이번', '고향집', '남', '손', '모양', '난', '이사', '어른', '일', '전', '소녀', '눈', '빛', '소녀', '길', '소년', '혼', '잣', '소녀', '이사', '말', '소년', '대추', '알', '단맛', '날', '밤', '소년', '덕', '쇠', '할아버지', '호두', '밭', '낯', '나무', '가지', '작대기', '호두', '송', '소리', '가슴', '다음', '순간', '호두', '라', '라', '힘', '작대기', '길', '열', '이틀', '달이', '그늘', '그늘', '고마움', '처음', '주머니', '호두', '송이', '맨손', '말', '근동', '제일', '덕', '쇠', '할아버지', '호두', '소녀', '맛', '생각', '생각', '소녀', '병이', '이사', '가기', '전', '한', '개울가', '말', '바보', '바보', '이튿날', '소년', '학교', '아버지', '나들이', '옷', '닭', '마리', '말', '대꾸', '아버지', '닭', '무게', '겨냥', '어머니', '망태기', '며칠', '날', '자리', '살', '여', '소년', '이번', '어머니', '아버지', '저', '서당골', '윤', '초시', '댁', '제삿상', '놈', '얼룩', '수탉', '말', '아버지', '임', '마', '실속', '소년', '책보', '외양간', '쇠', '잔등', '번', '쇠파리', '체', '개울물', '소년', '갈림길', '아래쪽', '갈밭', '머리', '서당골', '마을', '쪽빛', '하늘', '아래', '어른', '말', '내일', '소녀', '양평읍', '이사', '가겟방', '되리', '소년', '주머니', '호두', '알', '손', '갈꽃', '날', '밤', '소년', '자리', '생각', '소녀', '이사', '가보', '가면', '소녀', '잠', '세상일', '마을', '아버지', '윤', '초시', '댁', '말', '전답', '집', '남', '손', '악상', '남폿불', '밑', '바느질', '어머니', '증손', '계집애', '애', '사내', '애', '둘', '자식', '복', '말', '이번', '앤', '날', '약도', '지금', '윤', '초시', '대', '셈', '참', '이번', '계집', '앤', '잔망', '글', '전', '말', '입', '옷']\n"
          ]
        }
      ]
    },
    {
      "cell_type": "code",
      "source": [
        "vocab=Counter(result)"
      ],
      "metadata": {
        "colab": {
          "base_uri": "https://localhost:8080/"
        },
        "id": "cehV8kJvp72J",
        "outputId": "9d91db83-efb8-448b-ee2a-3db4f5cce21a"
      },
      "execution_count": null,
      "outputs": [
        {
          "output_type": "stream",
          "name": "stdout",
          "text": [
            "Counter({'소녀': 72, '소년': 49, '날': 14, '꽃': 14, '생각': 13, '물': 12, '손': 11, '전': 9, '말': 9, '개울가': 8, '얼굴': 8, '길': 7, '이번': 7, '바보': 7, '갈꽃': 7, '비': 7, '개울': 6, '징검다리': 6, '머리': 6, '소리': 6, '눈': 6, '산': 6, '허수아비': 6, '참': 6, '집': 6, '곳': 6, '밑': 6, '송아지': 6, '이사': 6, '호두': 6, '윤': 5, '초시': 5, '오늘': 5, '조약돌': 5, '갈밭': 5, '가을': 5, '쪽': 5, '주머니': 5, '일': 5, '번': 5, '수숫단': 5, '아버지': 5, '물장난': 4, '서울': 4, '학교': 4, '둑': 4, '다음': 4, '스웨터': 4, '몸': 4, '시작': 4, '맛': 4, '하나': 4, '듯이': 3, '며칠': 3, '가운데': 3, '세수': 3, '분홍': 3, '무엇': 3, '일어': 3, '뒤': 3, '햇살': 3, '아래': 3, '시간': 3, '가슴': 3, '자리': 3, '입술': 3, '체': 3, '갈림길': 3, '보조개': 3, '쪽빛': 3, '하늘': 3, '독수리': 3, '밭': 3, '원두막': 3, '참외': 3, '칡덩굴': 3, '등': 3, '꽃묶음': 3, '어깨': 3, '남': 3, '할아버지': 3, '어른': 3, '쇠': 3, '어머니': 3, '개울물': 2, '어제': 2, '사람': 2, '목덜미': 2, '모양': 2, '돌이': 2, '사잇길': 2, '옴큼': 2, '걸음': 2, '그림자': 2, '발': 2, '냄새': 2, '코': 2, '코피': 2, '앞': 2, '뿐': 2, '위': 2, '편': 2, '혼자': 2, '때': 2, '만': 2, '곁': 2, '참새': 2, '마리': 2, '야': 2, '줄': 2, '눈앞': 2, '맴': 2, '무우': 2, '잎': 2, '입': 2, '도라지': 2, '보랏빛': 2, '양산': 2, '마타리': 2, '주위': 2, '만이': 2, '등나무': 2, '줄기': 2, '생채기': 2, '고삐': 2, '농부': 2, '구름': 2, '소란': 2, '바람': 2, '빗방울': 2, '대로': 2, '가지': 2, '송이': 2, '밖': 2, '새': 2, '고개': 2, '도랑': 2, '빛': 2, '앞자락': 2, '저': 2, '대추': 2, '제사': 2, '대': 2, '알': 2, '밤': 2, '덕': 2, '작대기': 2, '라': 2, '그늘': 2, '옷': 2, '닭': 2, '서당골': 2, '댁': 2, '마을': 2, '애': 2, '앤': 2, '증손녀': 1, '딸': 1, '기슭': 1, '요행': 1, '소매': 1, '한참': 1, '고기': 1, '새끼': 1, '듯': 1, '허탕': 1, '양': 1, '조약': 1, '단발': 1, '청량': 1, '발돋움': 1, '상당': 1, '이제': 1, '들길': 1, '물기': 1, '다행': 1, '이상': 1, '계속': 1, '수록': 1, '구석': 1, '버릇': 1, '내가': 1, '달리기': 1, '디딤돌': 1, '물속': 1, '메밀밭': 1, '메밀꽃': 1, '미간': 1, '액체': 1, '토요일': 1, '건너편': 1, '가': 1, '얼마': 1, '실수': 1, '큰길': 1, '조심': 1, '조': 1, '개지': 1, '바닥': 1, '비단': 1, '조개': 1, '이름': 1, '쯤': 1, '우대': 1, '리': 1, '너머': 1, '벌': 1, '끝': 1, '시골': 1, '소풍': 1, '벼': 1, '가을걷이': 1, '새끼줄': 1, '춤': 1, '왼쪽': 1, '볼': 1, '패': 1, '저만큼': 1, '메뚜기': 1, '때문': 1, '논': 1, '도랑이': 1, '밭머리': 1, '수박': 1, '그루': 1, '심': 1, '후': 1, '대강이': 1, '손톱': 1, '껍질': 1, '입도': 1, '단풍': 1, '들국화': 1, '싸리': 1, '상기': 1, '꽃가지': 1, '마라': 1, '마루': 1, '맞은편': 1, '골짜기': 1, '초가집': 1, '누': 1, '바위': 1, '말라가': 1, '풀': 1, '등꽃': 1, '을': 1, '던': 1, '동무': 1, '꽃송이': 1, '안간힘': 1, '제가': 1, '오른쪽': 1, '무릎': 1, '핏방울': 1, '숨': 1, '송진': 1, '달': 1, '이빨': 1, '누렁': 1, '코뚜레': 1, '남색': 1, '스커트': 1, '범벅': 1, '모두': 1, '자랑': 1, '흉내': 1, '못': 1, '예서': 1, '들': 1, '억새풀': 1, '사이': 1, '어린': 1, '허리': 1, '꾸지람': 1, '나룻': 1, '소나': 1, '기가': 1, '먹장': 1, '사면': 1, '삽시간': 1, '떡갈나무': 1, '빗줄기': 1, '비안개': 1, '기둥': 1, '지붕': 1, '비가': 1, '무명': 1, '겹': 1, '저고리': 1, '수수밭': 1, '옆': 1, '이쪽': 1, '손짓': 1, '야만': 1, '김': 1, '뒷걸음': 1, '내음': 1, '기운': 1, '느낌': 1, '수숫잎': 1, '앞쪽': 1, '햇빛': 1, '흙탕물': 1, '잠방이': 1, '목': 1, '점': 1, '개': 1, '모습': 1, '매일': 1, '운동장': 1, '학년': 1, '여자': 1, '반': 1, '그날': 1, '동안': 1, '소나기': 1, '탓': 1, '인제': 1, '하': 1, '물이': 1, '진흙물': 1, '내': 1, '등에': 1, '아침': 1, '줌': 1, '증조': 1, '알도': 1, '내주': 1, '이야기': 1, '손자': 1, '사업': 1, '실패': 1, '고향': 1, '고향집': 1, '난': 1, '혼': 1, '잣': 1, '단맛': 1, '낯': 1, '나무': 1, '송': 1, '순간': 1, '힘': 1, '열': 1, '이틀': 1, '달이': 1, '고마움': 1, '처음': 1, '맨손': 1, '근동': 1, '제일': 1, '병이': 1, '가기': 1, '한': 1, '이튿날': 1, '나들이': 1, '대꾸': 1, '무게': 1, '겨냥': 1, '망태기': 1, '살': 1, '여': 1, '제삿상': 1, '놈': 1, '얼룩': 1, '수탉': 1, '임': 1, '마': 1, '실속': 1, '책보': 1, '외양간': 1, '잔등': 1, '쇠파리': 1, '아래쪽': 1, '내일': 1, '양평읍': 1, '가겟방': 1, '되리': 1, '가보': 1, '가면': 1, '잠': 1, '세상일': 1, '전답': 1, '악상': 1, '남폿불': 1, '바느질': 1, '증손': 1, '계집애': 1, '사내': 1, '둘': 1, '자식': 1, '복': 1, '약도': 1, '지금': 1, '셈': 1, '계집': 1, '잔망': 1, '글': 1})\n"
          ]
        }
      ]
    },
    {
      "cell_type": "code",
      "source": [
        "import operator \n",
        "\n",
        "for k, v in vocab.items():\n",
        "  if v >= 5:\n",
        "    print(k,v)\n",
        "  \n",
        "  "
      ],
      "metadata": {
        "colab": {
          "base_uri": "https://localhost:8080/"
        },
        "id": "S3GJRowzmr_5",
        "outputId": "601db527-418f-4cbc-f62e-e19cc1db4fa8"
      },
      "execution_count": null,
      "outputs": [
        {
          "output_type": "stream",
          "name": "stdout",
          "text": [
            "소년 49\n",
            "개울가 8\n",
            "소녀 72\n",
            "윤 5\n",
            "초시 5\n",
            "개울 6\n",
            "손 11\n",
            "길 7\n",
            "오늘 5\n",
            "징검다리 6\n",
            "날 14\n",
            "이번 7\n",
            "물 12\n",
            "얼굴 8\n",
            "조약돌 5\n",
            "바보 7\n",
            "머리 6\n",
            "갈밭 5\n",
            "가을 5\n",
            "갈꽃 7\n",
            "생각 13\n",
            "쪽 5\n",
            "주머니 5\n",
            "일 5\n",
            "전 9\n",
            "번 5\n",
            "소리 6\n",
            "눈 6\n",
            "산 6\n",
            "허수아비 6\n",
            "참 6\n",
            "집 6\n",
            "곳 6\n",
            "밑 6\n",
            "수숫단 5\n",
            "꽃 14\n",
            "송아지 6\n",
            "비 7\n",
            "이사 6\n",
            "말 9\n",
            "호두 6\n",
            "아버지 5\n"
          ]
        }
      ]
    }
  ]
}