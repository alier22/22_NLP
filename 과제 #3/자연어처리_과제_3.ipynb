{
  "nbformat": 4,
  "nbformat_minor": 0,
  "metadata": {
    "colab": {
      "provenance": []
    },
    "kernelspec": {
      "name": "python3",
      "display_name": "Python 3"
    },
    "language_info": {
      "name": "python"
    }
  },
  "cells": [
    {
      "cell_type": "code",
      "execution_count": null,
      "metadata": {
        "colab": {
          "base_uri": "https://localhost:8080/"
        },
        "id": "_OtKbqHMzisR",
        "outputId": "b51b6c8c-66e7-4702-98a7-2bb7387edd6e"
      },
      "outputs": [
        {
          "output_type": "stream",
          "name": "stdout",
          "text": [
            "Epoch 1/10\n",
            "469/469 [==============================] - 9s 18ms/step - loss: 0.2346 - accuracy: 0.9303\n",
            "Epoch 2/10\n",
            "469/469 [==============================] - 8s 17ms/step - loss: 0.0875 - accuracy: 0.9740\n",
            "Epoch 3/10\n",
            "469/469 [==============================] - 8s 17ms/step - loss: 0.0561 - accuracy: 0.9827\n",
            "Epoch 4/10\n",
            "469/469 [==============================] - 8s 17ms/step - loss: 0.0395 - accuracy: 0.9881\n",
            "Epoch 5/10\n",
            "469/469 [==============================] - 8s 17ms/step - loss: 0.0288 - accuracy: 0.9911\n",
            "Epoch 6/10\n",
            "469/469 [==============================] - 8s 18ms/step - loss: 0.0215 - accuracy: 0.9935\n",
            "Epoch 7/10\n",
            "469/469 [==============================] - 9s 18ms/step - loss: 0.0161 - accuracy: 0.9952\n",
            "Epoch 8/10\n",
            "469/469 [==============================] - 8s 18ms/step - loss: 0.0122 - accuracy: 0.9960\n",
            "Epoch 9/10\n",
            "469/469 [==============================] - 8s 18ms/step - loss: 0.0093 - accuracy: 0.9972\n",
            "Epoch 10/10\n",
            "469/469 [==============================] - 8s 18ms/step - loss: 0.0079 - accuracy: 0.9974\n"
          ]
        },
        {
          "output_type": "execute_result",
          "data": {
            "text/plain": [
              "<keras.callbacks.History at 0x7fbae6ac52d0>"
            ]
          },
          "metadata": {},
          "execution_count": 7
        }
      ],
      "source": [
        "# Loading the MNIST dataset\n",
        "from keras.datasets import mnist\n",
        "(train_images, train_labels), (test_images, test_labels) = mnist.load_data()\n",
        "\n",
        "from keras import models\n",
        "from keras import layers\n",
        "\n",
        "# Network architecture\n",
        "network = models.Sequential()\n",
        "network.add(layers.Dense(1024, activation='relu', input_shape=(28 * 28,)))\n",
        "network.add(layers.Dense(10, activation='softmax'))\n",
        "# The compilation step\n",
        "network.compile(optimizer='rmsprop', loss='categorical_crossentropy', metrics=['accuracy'])\n",
        "\n",
        "# Preparing image data\n",
        "train_images = train_images.reshape((60000, 28 * 28))\n",
        "train_images = train_images.astype('float32') / 255\n",
        "test_images = test_images.reshape((10000, 28 * 28))\n",
        "test_images = test_images.astype('float32') / 255\n",
        "\n",
        "# Preparing the labels\n",
        "from tensorflow.keras.utils import to_categorical\n",
        "train_labels = to_categorical(train_labels)\n",
        "test_labels = to_categorical(test_labels)\n",
        "# Fit the model to training data\n",
        "network.fit(train_images, train_labels, epochs=10, batch_size=128)"
      ]
    },
    {
      "cell_type": "code",
      "source": [
        "from keras.datasets import imdb\n",
        "(train_data, train_labels), (test_data, test_labels) = imdb.load_data( num_words=10000)\n",
        "\n",
        "import numpy as np\n",
        "# 입력 텍스트 vectorization\n",
        "def vectorize_sequences(sequences, dimension=10000): \n",
        "\tresults = np.zeros((len(sequences), dimension)) \n",
        "\tfor i, sequence in enumerate(sequences): \n",
        "\t\tresults[i, sequence] = 1. \n",
        "\treturn results \n",
        "\n",
        "x_train = vectorize_sequences(train_data) \n",
        "x_test = vectorize_sequences(test_data)\n",
        "y_train = np.asarray(train_labels).astype('float32')\n",
        "y_test = np.asarray(test_labels).astype('float32')\n",
        "\n",
        "from keras import models \n",
        "from keras import layers\n",
        "\n",
        "model = models.Sequential() \n",
        "model.add(layers.Dense(16, activation='relu', input_shape=(10000,))) \n",
        "model.add(layers.Dense(16, activation='relu')) \n",
        "model.add(layers.Dense(1, activation='sigmoid'))\n",
        "\n",
        "model.compile(optimizer='rmsprop', loss='binary_crossentropy', metrics=['accuracy'])\n",
        "\n",
        "model.fit(x_train, y_train, epochs=6, batch_size=512)\n",
        "results = model.evaluate(x_test, y_test)"
      ],
      "metadata": {
        "colab": {
          "base_uri": "https://localhost:8080/"
        },
        "id": "zcZQ04LZ5lEE",
        "outputId": "147283e5-bfca-4c4a-f9e1-0049db26812d"
      },
      "execution_count": null,
      "outputs": [
        {
          "output_type": "stream",
          "name": "stdout",
          "text": [
            "Downloading data from https://storage.googleapis.com/tensorflow/tf-keras-datasets/imdb.npz\n",
            "17465344/17464789 [==============================] - 0s 0us/step\n",
            "17473536/17464789 [==============================] - 0s 0us/step\n",
            "Epoch 1/6\n",
            "49/49 [==============================] - 2s 33ms/step - loss: 0.4616 - accuracy: 0.8202\n",
            "Epoch 2/6\n",
            "49/49 [==============================] - 1s 29ms/step - loss: 0.2678 - accuracy: 0.9093\n",
            "Epoch 3/6\n",
            "49/49 [==============================] - 1s 27ms/step - loss: 0.2045 - accuracy: 0.9290\n",
            "Epoch 4/6\n",
            "49/49 [==============================] - 1s 27ms/step - loss: 0.1703 - accuracy: 0.9408\n",
            "Epoch 5/6\n",
            "49/49 [==============================] - 1s 27ms/step - loss: 0.1450 - accuracy: 0.9498\n",
            "Epoch 6/6\n",
            "49/49 [==============================] - 1s 27ms/step - loss: 0.1271 - accuracy: 0.9564\n",
            "782/782 [==============================] - 2s 3ms/step - loss: 0.3497 - accuracy: 0.8695\n"
          ]
        }
      ]
    }
  ]
}