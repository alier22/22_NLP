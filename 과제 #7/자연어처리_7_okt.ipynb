{
  "nbformat": 4,
  "nbformat_minor": 0,
  "metadata": {
    "colab": {
      "provenance": []
    },
    "kernelspec": {
      "name": "python3",
      "display_name": "Python 3"
    },
    "language_info": {
      "name": "python"
    }
  },
  "cells": [
    {
      "cell_type": "code",
      "execution_count": 1,
      "metadata": {
        "colab": {
          "base_uri": "https://localhost:8080/"
        },
        "id": "KaRk9HDLSnBn",
        "outputId": "3493781c-d74a-46c8-d8b9-5d6472d6458c"
      },
      "outputs": [
        {
          "output_type": "stream",
          "name": "stdout",
          "text": [
            "Looking in indexes: https://pypi.org/simple, https://us-python.pkg.dev/colab-wheels/public/simple/\n",
            "Collecting sentencepiece\n",
            "  Downloading sentencepiece-0.1.97-cp37-cp37m-manylinux_2_17_x86_64.manylinux2014_x86_64.whl (1.3 MB)\n",
            "\u001b[K     |████████████████████████████████| 1.3 MB 11.3 MB/s \n",
            "\u001b[?25hInstalling collected packages: sentencepiece\n",
            "Successfully installed sentencepiece-0.1.97\n"
          ]
        }
      ],
      "source": [
        "!pip install sentencepiece\n",
        "\n",
        "import pandas as pd \n",
        "import sentencepiece as spm \n",
        "import urllib.request \n",
        "import csv\n",
        "\n",
        "urllib.request.urlretrieve(\"https://raw.githubusercontent.com/e9t/nsmc/master/ratings.txt\", filename=\"ratings.txt\") \n",
        "\n",
        "naver_df = pd.read_table('ratings.txt')\n",
        "\n",
        "naver_df = naver_df.dropna(how = 'any') # Null 값이 존재하는 행 제거 \n",
        "\n",
        "# 결과를 naver_review.txt 파일에 저장\n",
        "with open('naver_review.txt', 'w', encoding='utf8') as f:\n",
        "\tf.write('\\n'.join(naver_df['document']))"
      ]
    },
    {
      "cell_type": "code",
      "source": [
        "!pip install konlpy"
      ],
      "metadata": {
        "colab": {
          "base_uri": "https://localhost:8080/"
        },
        "id": "MCPvjNg0S8E5",
        "outputId": "72d6c4ef-2e65-4fcb-d62c-9c9290f05740"
      },
      "execution_count": 3,
      "outputs": [
        {
          "output_type": "stream",
          "name": "stdout",
          "text": [
            "Looking in indexes: https://pypi.org/simple, https://us-python.pkg.dev/colab-wheels/public/simple/\n",
            "Collecting konlpy\n",
            "  Downloading konlpy-0.6.0-py2.py3-none-any.whl (19.4 MB)\n",
            "\u001b[K     |████████████████████████████████| 19.4 MB 875 kB/s \n",
            "\u001b[?25hCollecting JPype1>=0.7.0\n",
            "  Downloading JPype1-1.4.1-cp37-cp37m-manylinux_2_12_x86_64.manylinux2010_x86_64.whl (465 kB)\n",
            "\u001b[K     |████████████████████████████████| 465 kB 79.8 MB/s \n",
            "\u001b[?25hRequirement already satisfied: lxml>=4.1.0 in /usr/local/lib/python3.7/dist-packages (from konlpy) (4.9.1)\n",
            "Requirement already satisfied: numpy>=1.6 in /usr/local/lib/python3.7/dist-packages (from konlpy) (1.21.6)\n",
            "Requirement already satisfied: typing-extensions in /usr/local/lib/python3.7/dist-packages (from JPype1>=0.7.0->konlpy) (4.1.1)\n",
            "Requirement already satisfied: packaging in /usr/local/lib/python3.7/dist-packages (from JPype1>=0.7.0->konlpy) (21.3)\n",
            "Requirement already satisfied: pyparsing!=3.0.5,>=2.0.2 in /usr/local/lib/python3.7/dist-packages (from packaging->JPype1>=0.7.0->konlpy) (3.0.9)\n",
            "Installing collected packages: JPype1, konlpy\n",
            "Successfully installed JPype1-1.4.1 konlpy-0.6.0\n"
          ]
        }
      ]
    },
    {
      "cell_type": "code",
      "source": [
        "from konlpy.tag import Okt\n",
        "okt = Okt()"
      ],
      "metadata": {
        "id": "uwCoj2nTSqZs"
      },
      "execution_count": 4,
      "outputs": []
    },
    {
      "cell_type": "code",
      "source": [
        "naver_review= pd.read_table('naver_review.txt', header = None)"
      ],
      "metadata": {
        "id": "-qNttO4USqcK"
      },
      "execution_count": 5,
      "outputs": []
    },
    {
      "cell_type": "code",
      "source": [
        "w = naver_review[0]\n",
        "print(w)\n",
        "lines = w[90001:90011].tolist()\n",
        "#print(lines)"
      ],
      "metadata": {
        "id": "hlEZbVb3TS1m"
      },
      "execution_count": 10,
      "outputs": []
    },
    {
      "cell_type": "code",
      "source": [
        "for line in lines:\n",
        "  print(line)\n",
        "  print(okt.morphs(line))\n",
        "  print()\n"
      ],
      "metadata": {
        "colab": {
          "base_uri": "https://localhost:8080/"
        },
        "id": "ESIsQQDQTS4L",
        "outputId": "a64431ec-6f10-4549-c3a0-03510dab8cce"
      },
      "execution_count": 14,
      "outputs": [
        {
          "output_type": "stream",
          "name": "stdout",
          "text": [
            "박성웅은 역시 연기를 너무 잘해\n",
            "['박성웅', '은', '역시', '연기', '를', '너무', '잘', '해']\n",
            "\n",
            "지구 탄생 이래 최초의 인류의 공동 프로젝트\n",
            "['지구', '탄생', '이래', '최초', '의', '인류', '의', '공동', '프로젝트']\n",
            "\n",
            "여자 개미 호바가 진짜 귀여움\n",
            "['여자', '개미', '호바', '가', '진짜', '귀', '여', '움']\n",
            "\n",
            "화려한 배우들 모아놓고 액션도 좋고 스토리도 좋앗고 눈이 즐거웟다,,한국판 오션스일레븐?\n",
            "['화려한', '배우', '들', '모아놓고', '액션', '도', '좋고', '스토리', '도', '좋앗고', '눈', '이', '즐거웟다', ',,', '한국판', '오션스일레븐', '?']\n",
            "\n",
            "어디론가 다녀온 듯한 여운\n",
            "['어디', '론', '가', '다녀온', '듯', '한', '여운']\n",
            "\n",
            "새로운 느낌의 드라마...음악이 한 몫 했다...\n",
            "['새로운', '느낌', '의', '드라마', '...', '음악', '이', '한', '몫', '했다', '...']\n",
            "\n",
            "아저씨를 이을 최고의 액션영화\n",
            "['아저씨', '를', '이을', '최고', '의', '액션영화']\n",
            "\n",
            "OO신다리~ㅋㅋㅋ 귀여워\n",
            "['OO', '신다리', '~', 'ㅋㅋㅋ', '귀여워']\n",
            "\n",
            ".............\n",
            "['.............']\n",
            "\n",
            "정말 좋은영화네요...\n",
            "['정말', '좋은', '영화', '네', '요', '...']\n",
            "\n"
          ]
        }
      ]
    }
  ]
}