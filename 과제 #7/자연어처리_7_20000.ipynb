{
  "nbformat": 4,
  "nbformat_minor": 0,
  "metadata": {
    "colab": {
      "provenance": []
    },
    "kernelspec": {
      "name": "python3",
      "display_name": "Python 3"
    },
    "language_info": {
      "name": "python"
    }
  },
  "cells": [
    {
      "cell_type": "code",
      "execution_count": 1,
      "metadata": {
        "colab": {
          "base_uri": "https://localhost:8080/"
        },
        "id": "nabFp47-KAUh",
        "outputId": "820cdc24-bcf4-4aa6-f85c-e1917349437a"
      },
      "outputs": [
        {
          "output_type": "stream",
          "name": "stdout",
          "text": [
            "Looking in indexes: https://pypi.org/simple, https://us-python.pkg.dev/colab-wheels/public/simple/\n",
            "Collecting sentencepiece\n",
            "  Downloading sentencepiece-0.1.97-cp37-cp37m-manylinux_2_17_x86_64.manylinux2014_x86_64.whl (1.3 MB)\n",
            "\u001b[K     |████████████████████████████████| 1.3 MB 23.0 MB/s \n",
            "\u001b[?25hInstalling collected packages: sentencepiece\n",
            "Successfully installed sentencepiece-0.1.97\n"
          ]
        }
      ],
      "source": [
        "!pip install sentencepiece\n",
        "\n",
        "import pandas as pd \n",
        "import sentencepiece as spm \n",
        "import urllib.request \n",
        "import csv\n",
        "\n",
        "urllib.request.urlretrieve(\"https://raw.githubusercontent.com/e9t/nsmc/master/ratings.txt\", filename=\"ratings.txt\") \n",
        "\n",
        "naver_df = pd.read_table('ratings.txt')\n",
        "\n",
        "naver_df = naver_df.dropna(how = 'any') # Null 값이 존재하는 행 제거 \n",
        "\n",
        "# 결과를 naver_review.txt 파일에 저장\n",
        "with open('naver_review.txt', 'w', encoding='utf8') as f:\n",
        "\tf.write('\\n'.join(naver_df['document']))"
      ]
    },
    {
      "cell_type": "code",
      "source": [
        "spm.SentencePieceTrainer.Train('--input=naver_review.txt --model_prefix=naver --vocab_size=20000 --model_type=bpe --max_sentence_length=9999')"
      ],
      "metadata": {
        "id": "G9sTwdZgKCDV"
      },
      "execution_count": 2,
      "outputs": []
    },
    {
      "cell_type": "code",
      "source": [
        "print(naver_review)"
      ],
      "metadata": {
        "colab": {
          "base_uri": "https://localhost:8080/"
        },
        "id": "WJKX57OxLdVT",
        "outputId": "7128b8d5-da6b-48db-bdcd-afc68a02270a"
      },
      "execution_count": 7,
      "outputs": [
        {
          "output_type": "stream",
          "name": "stdout",
          "text": [
            "                                      어릴때보고 지금다시봐도 재밌어요ㅋㅋ\n",
            "0       디자인을 배우는 학생으로, 외국디자이너와 그들이 일군 전통을 통해 발전해가는 문화산...\n",
            "1                    폴리스스토리 시리즈는 1부터 뉴까지 버릴께 하나도 없음.. 최고.\n",
            "2       와.. 연기가 진짜 개쩔구나.. 지루할거라고 생각했는데 몰입해서 봤다.. 그래 이런...\n",
            "3                             안개 자욱한 밤하늘에 떠 있는 초승달 같은 영화.\n",
            "4                           사랑을 해본사람이라면 처음부터 끝까지 웃을수 있는영화\n",
            "...                                                   ...\n",
            "198776                                     포켓 몬스터 짜가 ㅡㅡ;;\n",
            "198777                                              쓰.레.기\n",
            "198778                  완전 사이코영화. 마지막은 더욱더 이 영화의질을 떨어트린다.\n",
            "198779                왜난 재미없었지 ㅠㅠ 라따뚜이 보고나서 스머프 봐서 그런가 ㅋㅋ\n",
            "198780                                    포풍저그가나가신다영차영차영차\n",
            "\n",
            "[198781 rows x 1 columns]\n"
          ]
        }
      ]
    },
    {
      "cell_type": "code",
      "source": [
        "naver_review= pd.read_table('naver_review.txt', header = None)\n",
        "print(naver_review[90001:90011])"
      ],
      "metadata": {
        "colab": {
          "base_uri": "https://localhost:8080/"
        },
        "id": "WlwRc9yXKCFb",
        "outputId": "c88aaf85-f73a-487c-a542-b465e85adc5b"
      },
      "execution_count": 13,
      "outputs": [
        {
          "output_type": "stream",
          "name": "stdout",
          "text": [
            "                                                       0\n",
            "90001                                  박성웅은 역시 연기를 너무 잘해\n",
            "90002                           지구 탄생 이래 최초의 인류의 공동 프로젝트\n",
            "90003                                   여자 개미 호바가 진짜 귀여움\n",
            "90004  화려한 배우들 모아놓고 액션도 좋고 스토리도 좋앗고 눈이 즐거웟다,,한국판 오션스일레븐?\n",
            "90005                                     어디론가 다녀온 듯한 여운\n",
            "90006                        새로운 느낌의 드라마...음악이 한 몫 했다...\n",
            "90007                                   아저씨를 이을 최고의 액션영화\n",
            "90008                                      OO신다리~ㅋㅋㅋ 귀여워\n",
            "90009                                      .............\n",
            "90010                                       정말 좋은영화네요...\n"
          ]
        }
      ]
    },
    {
      "cell_type": "code",
      "source": [
        "w = naver_review[0]\n",
        "#print(w)\n",
        "lines = w[90001:90011].tolist()\n",
        "#print(lines)"
      ],
      "metadata": {
        "id": "2nKKqkUXKCLi"
      },
      "execution_count": 19,
      "outputs": []
    },
    {
      "cell_type": "code",
      "source": [
        "sp = spm.SentencePieceProcessor()\n",
        "vocab_file = \"naver.model\"\n",
        "sp.load(vocab_file)"
      ],
      "metadata": {
        "colab": {
          "base_uri": "https://localhost:8080/"
        },
        "id": "itBYgPmmNPZi",
        "outputId": "b90f3e5a-23c4-4fcc-8e13-cdcdc3d0e030"
      },
      "execution_count": 21,
      "outputs": [
        {
          "output_type": "execute_result",
          "data": {
            "text/plain": [
              "True"
            ]
          },
          "metadata": {},
          "execution_count": 21
        }
      ]
    },
    {
      "cell_type": "code",
      "source": [
        "for line in lines:\n",
        "  print(line)\n",
        "  print(sp.encode_as_pieces(line))\n",
        "  print(sp.encode_as_ids(line))\n",
        "  print()"
      ],
      "metadata": {
        "colab": {
          "base_uri": "https://localhost:8080/"
        },
        "id": "0q_gSGUjKCP4",
        "outputId": "6dfd5437-8c80-4c9c-86f0-62d852437dc7"
      },
      "execution_count": 22,
      "outputs": [
        {
          "output_type": "stream",
          "name": "stdout",
          "text": [
            "박성웅은 역시 연기를 너무 잘해\n",
            "['▁박', '성', '웅', '은', '▁역시', '▁연기를', '▁너무', '▁잘', '해']\n",
            "[351, 8377, 8912, 8297, 288, 1241, 23, 63, 8323]\n",
            "\n",
            "지구 탄생 이래 최초의 인류의 공동 프로젝트\n",
            "['▁지구', '▁탄생', '▁이래', '▁최초', '의', '▁인', '류의', '▁공', '동', '▁프로', '젝', '트']\n",
            "[2997, 4375, 2271, 4137, 8294, 77, 2886, 120, 8371, 1202, 9508, 8472]\n",
            "\n",
            "여자 개미 호바가 진짜 귀여움\n",
            "['▁여자', '▁개', '미', '▁호', '바', '가', '▁진짜', '▁귀여움']\n",
            "[312, 74, 8317, 552, 8448, 8285, 54, 5940]\n",
            "\n",
            "화려한 배우들 모아놓고 액션도 좋고 스토리도 좋앗고 눈이 즐거웟다,,한국판 오션스일레븐?\n",
            "['▁화려한', '▁배우들', '▁모아', '놓고', '▁액션도', '▁좋고', '▁스토리도', '▁좋앗', '고', '▁눈이', '▁즐거', '웟', '다', ',,', '한국', '판', '▁오', '션', '스', '일', '레', '븐', '?']\n",
            "[2135, 581, 6621, 962, 1881, 845, 809, 7476, 8280, 2359, 1605, 9410, 8278, 245, 2810, 8559, 72, 8489, 8312, 8368, 8411, 9221, 8329]\n",
            "\n",
            "어디론가 다녀온 듯한 여운\n",
            "['▁어디', '론가', '▁다녀', '온', '▁듯한', '▁여운']\n",
            "[646, 1327, 6404, 8579, 1998, 549]\n",
            "\n",
            "새로운 느낌의 드라마...음악이 한 몫 했다...\n",
            "['▁새로운', '▁느낌의', '▁드라마', '...', '음악', '이', '▁한', '▁', '몫', '▁했다', '...']\n",
            "[1601, 4343, 114, 8, 1543, 8277, 37, 8275, 9420, 1505, 8]\n",
            "\n",
            "아저씨를 이을 최고의 액션영화\n",
            "['▁아저씨', '를', '▁이', '을', '▁최고의', '▁액션영화']\n",
            "[2488, 8331, 6, 8301, 200, 2989]\n",
            "\n",
            "OO신다리~ㅋㅋㅋ 귀여워\n",
            "['▁OO', '신', '다리', '~', 'ᄏᄏᄏ', '▁귀여워']\n",
            "[411, 8385, 7620, 8341, 326, 4924]\n",
            "\n",
            ".............\n",
            "['▁', '........', '.....']\n",
            "[8275, 585, 559]\n",
            "\n",
            "정말 좋은영화네요...\n",
            "['▁정말', '▁좋은영화', '네요', '...']\n",
            "[42, 1790, 39, 8]\n",
            "\n"
          ]
        }
      ]
    }
  ]
}