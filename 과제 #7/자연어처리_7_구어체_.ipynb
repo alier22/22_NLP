{
  "nbformat": 4,
  "nbformat_minor": 0,
  "metadata": {
    "colab": {
      "provenance": []
    },
    "kernelspec": {
      "name": "python3",
      "display_name": "Python 3"
    },
    "language_info": {
      "name": "python"
    }
  },
  "cells": [
    {
      "cell_type": "code",
      "source": [
        "!pip install sentencepiece"
      ],
      "metadata": {
        "colab": {
          "base_uri": "https://localhost:8080/"
        },
        "id": "_ZKrb6P2GtuR",
        "outputId": "b3802621-4b30-466f-fa45-cf1dfe8d5be6"
      },
      "execution_count": 3,
      "outputs": [
        {
          "output_type": "stream",
          "name": "stdout",
          "text": [
            "Looking in indexes: https://pypi.org/simple, https://us-python.pkg.dev/colab-wheels/public/simple/\n",
            "Collecting sentencepiece\n",
            "  Downloading sentencepiece-0.1.97-cp37-cp37m-manylinux_2_17_x86_64.manylinux2014_x86_64.whl (1.3 MB)\n",
            "\u001b[K     |████████████████████████████████| 1.3 MB 4.0 MB/s \n",
            "\u001b[?25hInstalling collected packages: sentencepiece\n",
            "Successfully installed sentencepiece-0.1.97\n"
          ]
        }
      ]
    },
    {
      "cell_type": "code",
      "source": [
        "import pandas as pd\n",
        "import sentencepiece as spm \n",
        "import urllib.request \n",
        "import csv\n",
        "import numpy as np"
      ],
      "metadata": {
        "id": "72E81va6EI0N"
      },
      "execution_count": 4,
      "outputs": []
    },
    {
      "cell_type": "code",
      "source": [
        "data = pd.read_csv('구어체.csv', header=None)\n",
        "data[:5]"
      ],
      "metadata": {
        "colab": {
          "base_uri": "https://localhost:8080/",
          "height": 337
        },
        "id": "YFIJWGFnEI2y",
        "outputId": "bcb0ebf3-7c84-430a-efc1-51a49ae31f56"
      },
      "execution_count": 13,
      "outputs": [
        {
          "output_type": "execute_result",
          "data": {
            "text/plain": [
              "                                                   0  \\\n",
              "0    0 설정을 입력하고 안정될 때까지 5분 동안 기다린 후 OK 버튼을 길게 누르십시오.   \n",
              "1                 0은 그들에게 아무것도 아니었지만 무는 숫자일 수가 없습니다.   \n",
              "2                             1,015버전에서 핫키 버그가 있습니다.   \n",
              "3             1,390점에서 1,440점을 득점한 사람은 재판을 위해 걸러집니다.   \n",
              "4  1,400년보다 오래 전의 유적지에 있는 최초의 성당에서 숭배자들은 그것을 인지했을...   \n",
              "\n",
              "                                                   1  \n",
              "0  Enter into 0 setting, and wait for 5 minutes t...  \n",
              "1  The zero was nothing for them but nothing coul...  \n",
              "2        There is a Hotkey bug in the 1,015 version.  \n",
              "3  Individuals who got a score between 1,390 and ...  \n",
              "4  Indeed, worshippers at the very first cathedra...  "
            ],
            "text/html": [
              "\n",
              "  <div id=\"df-0a672257-8409-4e46-8c04-933ffd961240\">\n",
              "    <div class=\"colab-df-container\">\n",
              "      <div>\n",
              "<style scoped>\n",
              "    .dataframe tbody tr th:only-of-type {\n",
              "        vertical-align: middle;\n",
              "    }\n",
              "\n",
              "    .dataframe tbody tr th {\n",
              "        vertical-align: top;\n",
              "    }\n",
              "\n",
              "    .dataframe thead th {\n",
              "        text-align: right;\n",
              "    }\n",
              "</style>\n",
              "<table border=\"1\" class=\"dataframe\">\n",
              "  <thead>\n",
              "    <tr style=\"text-align: right;\">\n",
              "      <th></th>\n",
              "      <th>0</th>\n",
              "      <th>1</th>\n",
              "    </tr>\n",
              "  </thead>\n",
              "  <tbody>\n",
              "    <tr>\n",
              "      <th>0</th>\n",
              "      <td>0 설정을 입력하고 안정될 때까지 5분 동안 기다린 후 OK 버튼을 길게 누르십시오.</td>\n",
              "      <td>Enter into 0 setting, and wait for 5 minutes t...</td>\n",
              "    </tr>\n",
              "    <tr>\n",
              "      <th>1</th>\n",
              "      <td>0은 그들에게 아무것도 아니었지만 무는 숫자일 수가 없습니다.</td>\n",
              "      <td>The zero was nothing for them but nothing coul...</td>\n",
              "    </tr>\n",
              "    <tr>\n",
              "      <th>2</th>\n",
              "      <td>1,015버전에서 핫키 버그가 있습니다.</td>\n",
              "      <td>There is a Hotkey bug in the 1,015 version.</td>\n",
              "    </tr>\n",
              "    <tr>\n",
              "      <th>3</th>\n",
              "      <td>1,390점에서 1,440점을 득점한 사람은 재판을 위해 걸러집니다.</td>\n",
              "      <td>Individuals who got a score between 1,390 and ...</td>\n",
              "    </tr>\n",
              "    <tr>\n",
              "      <th>4</th>\n",
              "      <td>1,400년보다 오래 전의 유적지에 있는 최초의 성당에서 숭배자들은 그것을 인지했을...</td>\n",
              "      <td>Indeed, worshippers at the very first cathedra...</td>\n",
              "    </tr>\n",
              "  </tbody>\n",
              "</table>\n",
              "</div>\n",
              "      <button class=\"colab-df-convert\" onclick=\"convertToInteractive('df-0a672257-8409-4e46-8c04-933ffd961240')\"\n",
              "              title=\"Convert this dataframe to an interactive table.\"\n",
              "              style=\"display:none;\">\n",
              "        \n",
              "  <svg xmlns=\"http://www.w3.org/2000/svg\" height=\"24px\"viewBox=\"0 0 24 24\"\n",
              "       width=\"24px\">\n",
              "    <path d=\"M0 0h24v24H0V0z\" fill=\"none\"/>\n",
              "    <path d=\"M18.56 5.44l.94 2.06.94-2.06 2.06-.94-2.06-.94-.94-2.06-.94 2.06-2.06.94zm-11 1L8.5 8.5l.94-2.06 2.06-.94-2.06-.94L8.5 2.5l-.94 2.06-2.06.94zm10 10l.94 2.06.94-2.06 2.06-.94-2.06-.94-.94-2.06-.94 2.06-2.06.94z\"/><path d=\"M17.41 7.96l-1.37-1.37c-.4-.4-.92-.59-1.43-.59-.52 0-1.04.2-1.43.59L10.3 9.45l-7.72 7.72c-.78.78-.78 2.05 0 2.83L4 21.41c.39.39.9.59 1.41.59.51 0 1.02-.2 1.41-.59l7.78-7.78 2.81-2.81c.8-.78.8-2.07 0-2.86zM5.41 20L4 18.59l7.72-7.72 1.47 1.35L5.41 20z\"/>\n",
              "  </svg>\n",
              "      </button>\n",
              "      \n",
              "  <style>\n",
              "    .colab-df-container {\n",
              "      display:flex;\n",
              "      flex-wrap:wrap;\n",
              "      gap: 12px;\n",
              "    }\n",
              "\n",
              "    .colab-df-convert {\n",
              "      background-color: #E8F0FE;\n",
              "      border: none;\n",
              "      border-radius: 50%;\n",
              "      cursor: pointer;\n",
              "      display: none;\n",
              "      fill: #1967D2;\n",
              "      height: 32px;\n",
              "      padding: 0 0 0 0;\n",
              "      width: 32px;\n",
              "    }\n",
              "\n",
              "    .colab-df-convert:hover {\n",
              "      background-color: #E2EBFA;\n",
              "      box-shadow: 0px 1px 2px rgba(60, 64, 67, 0.3), 0px 1px 3px 1px rgba(60, 64, 67, 0.15);\n",
              "      fill: #174EA6;\n",
              "    }\n",
              "\n",
              "    [theme=dark] .colab-df-convert {\n",
              "      background-color: #3B4455;\n",
              "      fill: #D2E3FC;\n",
              "    }\n",
              "\n",
              "    [theme=dark] .colab-df-convert:hover {\n",
              "      background-color: #434B5C;\n",
              "      box-shadow: 0px 1px 3px 1px rgba(0, 0, 0, 0.15);\n",
              "      filter: drop-shadow(0px 1px 2px rgba(0, 0, 0, 0.3));\n",
              "      fill: #FFFFFF;\n",
              "    }\n",
              "  </style>\n",
              "\n",
              "      <script>\n",
              "        const buttonEl =\n",
              "          document.querySelector('#df-0a672257-8409-4e46-8c04-933ffd961240 button.colab-df-convert');\n",
              "        buttonEl.style.display =\n",
              "          google.colab.kernel.accessAllowed ? 'block' : 'none';\n",
              "\n",
              "        async function convertToInteractive(key) {\n",
              "          const element = document.querySelector('#df-0a672257-8409-4e46-8c04-933ffd961240');\n",
              "          const dataTable =\n",
              "            await google.colab.kernel.invokeFunction('convertToInteractive',\n",
              "                                                     [key], {});\n",
              "          if (!dataTable) return;\n",
              "\n",
              "          const docLinkHtml = 'Like what you see? Visit the ' +\n",
              "            '<a target=\"_blank\" href=https://colab.research.google.com/notebooks/data_table.ipynb>data table notebook</a>'\n",
              "            + ' to learn more about interactive tables.';\n",
              "          element.innerHTML = '';\n",
              "          dataTable['output_type'] = 'display_data';\n",
              "          await google.colab.output.renderOutput(dataTable, element);\n",
              "          const docLink = document.createElement('div');\n",
              "          docLink.innerHTML = docLinkHtml;\n",
              "          element.appendChild(docLink);\n",
              "        }\n",
              "      </script>\n",
              "    </div>\n",
              "  </div>\n",
              "  "
            ]
          },
          "metadata": {},
          "execution_count": 13
        }
      ]
    },
    {
      "cell_type": "code",
      "source": [
        "data[0] = data[0].str.replace(\"[^ㄱ-ㅎㅏ-ㅣ가-힣 ]\",\"\")\n",
        "data[:5]"
      ],
      "metadata": {
        "colab": {
          "base_uri": "https://localhost:8080/",
          "height": 393
        },
        "id": "jq_XPmM_EI5y",
        "outputId": "f47fad9c-c960-4917-eae8-009f6d4de64f"
      },
      "execution_count": 14,
      "outputs": [
        {
          "output_type": "stream",
          "name": "stderr",
          "text": [
            "/usr/local/lib/python3.7/dist-packages/ipykernel_launcher.py:1: FutureWarning: The default value of regex will change from True to False in a future version.\n",
            "  \"\"\"Entry point for launching an IPython kernel.\n"
          ]
        },
        {
          "output_type": "execute_result",
          "data": {
            "text/plain": [
              "                                                0  \\\n",
              "0       설정을 입력하고 안정될 때까지 분 동안 기다린 후  버튼을 길게 누르십시오   \n",
              "1                은 그들에게 아무것도 아니었지만 무는 숫자일 수가 없습니다   \n",
              "2                                버전에서 핫키 버그가 있습니다   \n",
              "3                     점에서 점을 득점한 사람은 재판을 위해 걸러집니다   \n",
              "4  년보다 오래 전의 유적지에 있는 최초의 성당에서 숭배자들은 그것을 인지했을 것입니다   \n",
              "\n",
              "                                                   1  \n",
              "0  Enter into 0 setting, and wait for 5 minutes t...  \n",
              "1  The zero was nothing for them but nothing coul...  \n",
              "2        There is a Hotkey bug in the 1,015 version.  \n",
              "3  Individuals who got a score between 1,390 and ...  \n",
              "4  Indeed, worshippers at the very first cathedra...  "
            ],
            "text/html": [
              "\n",
              "  <div id=\"df-d6b1dd2f-c56b-4eef-83e8-44c7459a78d6\">\n",
              "    <div class=\"colab-df-container\">\n",
              "      <div>\n",
              "<style scoped>\n",
              "    .dataframe tbody tr th:only-of-type {\n",
              "        vertical-align: middle;\n",
              "    }\n",
              "\n",
              "    .dataframe tbody tr th {\n",
              "        vertical-align: top;\n",
              "    }\n",
              "\n",
              "    .dataframe thead th {\n",
              "        text-align: right;\n",
              "    }\n",
              "</style>\n",
              "<table border=\"1\" class=\"dataframe\">\n",
              "  <thead>\n",
              "    <tr style=\"text-align: right;\">\n",
              "      <th></th>\n",
              "      <th>0</th>\n",
              "      <th>1</th>\n",
              "    </tr>\n",
              "  </thead>\n",
              "  <tbody>\n",
              "    <tr>\n",
              "      <th>0</th>\n",
              "      <td>설정을 입력하고 안정될 때까지 분 동안 기다린 후  버튼을 길게 누르십시오</td>\n",
              "      <td>Enter into 0 setting, and wait for 5 minutes t...</td>\n",
              "    </tr>\n",
              "    <tr>\n",
              "      <th>1</th>\n",
              "      <td>은 그들에게 아무것도 아니었지만 무는 숫자일 수가 없습니다</td>\n",
              "      <td>The zero was nothing for them but nothing coul...</td>\n",
              "    </tr>\n",
              "    <tr>\n",
              "      <th>2</th>\n",
              "      <td>버전에서 핫키 버그가 있습니다</td>\n",
              "      <td>There is a Hotkey bug in the 1,015 version.</td>\n",
              "    </tr>\n",
              "    <tr>\n",
              "      <th>3</th>\n",
              "      <td>점에서 점을 득점한 사람은 재판을 위해 걸러집니다</td>\n",
              "      <td>Individuals who got a score between 1,390 and ...</td>\n",
              "    </tr>\n",
              "    <tr>\n",
              "      <th>4</th>\n",
              "      <td>년보다 오래 전의 유적지에 있는 최초의 성당에서 숭배자들은 그것을 인지했을 것입니다</td>\n",
              "      <td>Indeed, worshippers at the very first cathedra...</td>\n",
              "    </tr>\n",
              "  </tbody>\n",
              "</table>\n",
              "</div>\n",
              "      <button class=\"colab-df-convert\" onclick=\"convertToInteractive('df-d6b1dd2f-c56b-4eef-83e8-44c7459a78d6')\"\n",
              "              title=\"Convert this dataframe to an interactive table.\"\n",
              "              style=\"display:none;\">\n",
              "        \n",
              "  <svg xmlns=\"http://www.w3.org/2000/svg\" height=\"24px\"viewBox=\"0 0 24 24\"\n",
              "       width=\"24px\">\n",
              "    <path d=\"M0 0h24v24H0V0z\" fill=\"none\"/>\n",
              "    <path d=\"M18.56 5.44l.94 2.06.94-2.06 2.06-.94-2.06-.94-.94-2.06-.94 2.06-2.06.94zm-11 1L8.5 8.5l.94-2.06 2.06-.94-2.06-.94L8.5 2.5l-.94 2.06-2.06.94zm10 10l.94 2.06.94-2.06 2.06-.94-2.06-.94-.94-2.06-.94 2.06-2.06.94z\"/><path d=\"M17.41 7.96l-1.37-1.37c-.4-.4-.92-.59-1.43-.59-.52 0-1.04.2-1.43.59L10.3 9.45l-7.72 7.72c-.78.78-.78 2.05 0 2.83L4 21.41c.39.39.9.59 1.41.59.51 0 1.02-.2 1.41-.59l7.78-7.78 2.81-2.81c.8-.78.8-2.07 0-2.86zM5.41 20L4 18.59l7.72-7.72 1.47 1.35L5.41 20z\"/>\n",
              "  </svg>\n",
              "      </button>\n",
              "      \n",
              "  <style>\n",
              "    .colab-df-container {\n",
              "      display:flex;\n",
              "      flex-wrap:wrap;\n",
              "      gap: 12px;\n",
              "    }\n",
              "\n",
              "    .colab-df-convert {\n",
              "      background-color: #E8F0FE;\n",
              "      border: none;\n",
              "      border-radius: 50%;\n",
              "      cursor: pointer;\n",
              "      display: none;\n",
              "      fill: #1967D2;\n",
              "      height: 32px;\n",
              "      padding: 0 0 0 0;\n",
              "      width: 32px;\n",
              "    }\n",
              "\n",
              "    .colab-df-convert:hover {\n",
              "      background-color: #E2EBFA;\n",
              "      box-shadow: 0px 1px 2px rgba(60, 64, 67, 0.3), 0px 1px 3px 1px rgba(60, 64, 67, 0.15);\n",
              "      fill: #174EA6;\n",
              "    }\n",
              "\n",
              "    [theme=dark] .colab-df-convert {\n",
              "      background-color: #3B4455;\n",
              "      fill: #D2E3FC;\n",
              "    }\n",
              "\n",
              "    [theme=dark] .colab-df-convert:hover {\n",
              "      background-color: #434B5C;\n",
              "      box-shadow: 0px 1px 3px 1px rgba(0, 0, 0, 0.15);\n",
              "      filter: drop-shadow(0px 1px 2px rgba(0, 0, 0, 0.3));\n",
              "      fill: #FFFFFF;\n",
              "    }\n",
              "  </style>\n",
              "\n",
              "      <script>\n",
              "        const buttonEl =\n",
              "          document.querySelector('#df-d6b1dd2f-c56b-4eef-83e8-44c7459a78d6 button.colab-df-convert');\n",
              "        buttonEl.style.display =\n",
              "          google.colab.kernel.accessAllowed ? 'block' : 'none';\n",
              "\n",
              "        async function convertToInteractive(key) {\n",
              "          const element = document.querySelector('#df-d6b1dd2f-c56b-4eef-83e8-44c7459a78d6');\n",
              "          const dataTable =\n",
              "            await google.colab.kernel.invokeFunction('convertToInteractive',\n",
              "                                                     [key], {});\n",
              "          if (!dataTable) return;\n",
              "\n",
              "          const docLinkHtml = 'Like what you see? Visit the ' +\n",
              "            '<a target=\"_blank\" href=https://colab.research.google.com/notebooks/data_table.ipynb>data table notebook</a>'\n",
              "            + ' to learn more about interactive tables.';\n",
              "          element.innerHTML = '';\n",
              "          dataTable['output_type'] = 'display_data';\n",
              "          await google.colab.output.renderOutput(dataTable, element);\n",
              "          const docLink = document.createElement('div');\n",
              "          docLink.innerHTML = docLinkHtml;\n",
              "          element.appendChild(docLink);\n",
              "        }\n",
              "      </script>\n",
              "    </div>\n",
              "  </div>\n",
              "  "
            ]
          },
          "metadata": {},
          "execution_count": 14
        }
      ]
    },
    {
      "cell_type": "code",
      "source": [
        "data[0] = data[0].str.replace('^ +', \"\") # white space 데이터를 empty value로 변경\n",
        "data[0].replace('', np.nan, inplace=True)\n",
        "print(data.isnull().sum())\n",
        "\n",
        "data = data.dropna(how = 'any')# Null 값이 존재하는 행 제거 "
      ],
      "metadata": {
        "colab": {
          "base_uri": "https://localhost:8080/"
        },
        "id": "HxlVW1TcHm9b",
        "outputId": "f850416a-ad3e-4487-d724-da7e66297c6f"
      },
      "execution_count": 15,
      "outputs": [
        {
          "output_type": "stream",
          "name": "stderr",
          "text": [
            "/usr/local/lib/python3.7/dist-packages/ipykernel_launcher.py:1: FutureWarning: The default value of regex will change from True to False in a future version.\n",
            "  \"\"\"Entry point for launching an IPython kernel.\n"
          ]
        },
        {
          "output_type": "stream",
          "name": "stdout",
          "text": [
            "0    2\n",
            "1    0\n",
            "dtype: int64\n"
          ]
        }
      ]
    },
    {
      "cell_type": "code",
      "source": [
        "# 결과를 data_kor.txt 파일에 저장\n",
        "with open('data_k.txt', 'w', encoding='utf8') as f:\n",
        "\tf.write('\\n'.join(data[0]))"
      ],
      "metadata": {
        "id": "Lx0cw8DmHm_y"
      },
      "execution_count": 16,
      "outputs": []
    },
    {
      "cell_type": "code",
      "source": [
        "data_k = pd.read_table('data_k.txt', header=None)\n",
        "print(data_k)"
      ],
      "metadata": {
        "colab": {
          "base_uri": "https://localhost:8080/"
        },
        "id": "G2nmWZASHnCI",
        "outputId": "0ce30283-2478-442b-af69-86bb7f2d3f20"
      },
      "execution_count": 17,
      "outputs": [
        {
          "output_type": "stream",
          "name": "stdout",
          "text": [
            "                                                     0\n",
            "0            설정을 입력하고 안정될 때까지 분 동안 기다린 후  버튼을 길게 누르십시오\n",
            "1                     은 그들에게 아무것도 아니었지만 무는 숫자일 수가 없습니다\n",
            "2                                     버전에서 핫키 버그가 있습니다\n",
            "3                          점에서 점을 득점한 사람은 재판을 위해 걸러집니다\n",
            "4       년보다 오래 전의 유적지에 있는 최초의 성당에서 숭배자들은 그것을 인지했을 것입니다\n",
            "...                                                ...\n",
            "199993                           당신은 곧 당신의 조카를 볼 수 있어요\n",
            "199994                          나는 당신이 내게 공유한 음악을 들었어요\n",
            "199995                          그 서류는 당신이 공유해 준 것과 달라요\n",
            "199996                             당신이 잡지에 광고 낸 것을 봤어요\n",
            "199997                           당신이 이제 괜찮다니 저는 참 기쁘군요\n",
            "\n",
            "[199998 rows x 1 columns]\n"
          ]
        }
      ]
    },
    {
      "cell_type": "code",
      "source": [
        "spm.SentencePieceTrainer.Train('--input=data_k.txt --model_prefix=data_k --vocab_size=32000 --model_type=bpe --max_sentence_length=9999')"
      ],
      "metadata": {
        "id": "vpS-sm2lEI8g"
      },
      "execution_count": 20,
      "outputs": []
    },
    {
      "cell_type": "code",
      "source": [
        "sp = spm.SentencePieceProcessor()\n",
        "vocab_file = \"data_k.model\"\n",
        "sp.load(vocab_file)"
      ],
      "metadata": {
        "colab": {
          "base_uri": "https://localhost:8080/"
        },
        "id": "IOf0kMmgEI_i",
        "outputId": "4bd0572f-f15e-46a4-8aae-6c4cff6f02df"
      },
      "execution_count": 22,
      "outputs": [
        {
          "output_type": "execute_result",
          "data": {
            "text/plain": [
              "True"
            ]
          },
          "metadata": {},
          "execution_count": 22
        }
      ]
    },
    {
      "cell_type": "code",
      "source": [
        "review = data_k[0]\n",
        "\n",
        "lines = review[110500:110511].tolist()\n",
        "\n",
        "for line in lines:\n",
        "  print(line)\n",
        "  print(sp.encode_as_pieces(line))\n",
        "  print(sp.encode_as_ids(line))\n",
        "  print()"
      ],
      "metadata": {
        "colab": {
          "base_uri": "https://localhost:8080/"
        },
        "id": "CAdSXVMDEJCc",
        "outputId": "b441fb92-1f03-4365-ef14-37645bf7f5f7"
      },
      "execution_count": 23,
      "outputs": [
        {
          "output_type": "stream",
          "name": "stdout",
          "text": [
            "정말 신기하게도 공통점이 전혀 없는 형이에요\n",
            "['▁정말', '▁신기', '하게도', '▁공통점이', '▁전혀', '▁없는', '▁형', '이에요']\n",
            "[218, 5625, 5399, 19254, 1321, 598, 551, 96]\n",
            "\n",
            "정말 심각하게 좋은 날이네요\n",
            "['▁정말', '▁심각하게', '▁좋은', '▁날이', '네요']\n",
            "[218, 11455, 222, 2484, 355]\n",
            "\n",
            "정말 심각한 문제는 이들이 식물의 뿌리를 갉아 먹어서 식물의 뿌리에 알을 낳는 붕어가 알을 낳지 못해요\n",
            "['▁정말', '▁심각한', '▁문제는', '▁이들이', '▁식물의', '▁뿌리를', '▁', '갉', '아', '▁먹어서', '▁식물의', '▁뿌', '리에', '▁알을', '▁낳', '는', '▁붕', '어가', '▁알을', '▁낳', '지', '▁못해요']\n",
            "[218, 3610, 1907, 9368, 28679, 22679, 30781, 0, 30807, 10495, 28679, 2633, 962, 19779, 4593, 30784, 9446, 1243, 19779, 4593, 30791, 3555]\n",
            "\n",
            "정말 아름다운 전시회입니다\n",
            "['▁정말', '▁아름다운', '▁전시회', '입니다']\n",
            "[218, 1542, 8461, 20]\n",
            "\n",
            "정말 염치없지만 말하고 싶은 게 있습니다\n",
            "['▁정말', '▁염', '치', '없', '지만', '▁말하고', '▁싶은', '▁게', '▁있습니다']\n",
            "[218, 2471, 30916, 30873, 67, 3240, 616, 186, 41]\n",
            "\n",
            "정말 예측 불가능하죠 그렇지 않아요\n",
            "['▁정말', '▁예측', '▁불가능', '하죠', '▁그렇지', '▁않아요']\n",
            "[218, 3295, 1817, 4287, 2625, 689]\n",
            "\n",
            "정말 오랜 친구인 것처럼 느꼈고 자매처럼 보였어요\n",
            "['▁정말', '▁오랜', '▁친구인', '▁것처럼', '▁느꼈고', '▁자매', '처럼', '▁보였어요']\n",
            "[218, 1714, 14636, 1398, 19983, 19810, 440, 7541]\n",
            "\n",
            "정말 오랜만에 느끼는 한가한 오후입니다\n",
            "['▁정말', '▁오랜만에', '▁느끼는', '▁한가한', '▁오후', '입니다']\n",
            "[218, 3663, 4342, 22964, 1294, 20]\n",
            "\n",
            "정말 오랜만에 연락드리네요\n",
            "['▁정말', '▁오랜만에', '▁연락', '드리', '네요']\n",
            "[218, 3663, 337, 1247, 355]\n",
            "\n",
            "정말 오랜만에 찾아뵙게 되었습니다\n",
            "['▁정말', '▁오랜만에', '▁찾아뵙', '게', '▁되었습니다']\n",
            "[218, 3663, 11095, 30811, 792]\n",
            "\n",
            "정말 오랜만에 최고의 휴식을 했습니다\n",
            "['▁정말', '▁오랜만에', '▁최고의', '▁휴식을', '▁했습니다']\n",
            "[218, 3663, 1442, 4082, 658]\n",
            "\n"
          ]
        }
      ]
    },
    {
      "cell_type": "code",
      "source": [],
      "metadata": {
        "id": "P0CGXmXLEJE2"
      },
      "execution_count": null,
      "outputs": []
    },
    {
      "cell_type": "code",
      "source": [],
      "metadata": {
        "id": "HgZ-8j7zEJHp"
      },
      "execution_count": null,
      "outputs": []
    },
    {
      "cell_type": "code",
      "source": [],
      "metadata": {
        "id": "6066i1fjEJOz"
      },
      "execution_count": null,
      "outputs": []
    }
  ]
}